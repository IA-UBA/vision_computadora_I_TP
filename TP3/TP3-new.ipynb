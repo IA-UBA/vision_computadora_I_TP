{
 "cells": [
  {
   "cell_type": "code",
   "execution_count": null,
   "metadata": {},
   "outputs": [],
   "source": [
    "%matplotlib qt\n",
    "\n",
    "import numpy as np\n",
    "import cv2 as cv\n",
    "import matplotlib.pyplot as plt"
   ]
  },
  {
   "cell_type": "code",
   "execution_count": null,
   "metadata": {},
   "outputs": [],
   "source": [
    "# Cargamos el template\n",
    "template = cv.imread('assets\\\\template\\\\pattern.png', 0)"
   ]
  },
  {
   "cell_type": "code",
   "execution_count": null,
   "metadata": {},
   "outputs": [],
   "source": [
    "# Cargamos las imagenes\n",
    "base_path = 'assets'\n",
    "image_names = ['coca_logo_1.png', 'coca_logo_2.png', 'coca_multi.png', 'coca_retro_1.png', 'coca_retro_2.png', 'COCA-COLA-LOGO.jpg', 'logo_1.png']\n",
    "\n",
    "images = [cv.imread(f\"{base_path}\\{path}\") for path in image_names]\n",
    "images_rgb = [cv.cvtColor(image, cv.COLOR_BGR2RGB) for image in images]\n",
    "images_gray = [cv.cvtColor(image, cv.COLOR_BGR2GRAY) for image in images]"
   ]
  }
 ],
 "metadata": {
  "language_info": {
   "name": "python"
  }
 },
 "nbformat": 4,
 "nbformat_minor": 2
}
